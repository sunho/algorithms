{
 "cells": [
  {
   "cell_type": "code",
   "execution_count": 1,
   "id": "84ed915b-03ce-465b-a3b0-fd788acad8a5",
   "metadata": {},
   "outputs": [],
   "source": [
    "import numpy as np\n"
   ]
  },
  {
   "cell_type": "code",
   "execution_count": 2,
   "id": "71948413-286d-498b-9509-796dbbf2ece1",
   "metadata": {},
   "outputs": [],
   "source": [
    "def f(x):\n",
    "    return np.array([4*(x[0]**2)-x[1]**2,4*x[0]*(x[1]**2)-x[0]-1])\n"
   ]
  },
  {
   "cell_type": "code",
   "execution_count": 3,
   "id": "393cd49d-8da0-45dd-aa2c-8b4d47e22dfd",
   "metadata": {},
   "outputs": [
    {
     "data": {
      "text/plain": [
       "array([-1, -1])"
      ]
     },
     "execution_count": 3,
     "metadata": {},
     "output_type": "execute_result"
    }
   ],
   "source": [
    "f([0,1])\n"
   ]
  },
  {
   "cell_type": "code",
   "execution_count": 4,
   "id": "26b2167a-1184-42c8-9330-bef49b62e57a",
   "metadata": {},
   "outputs": [],
   "source": [
    "def J(x):\n",
    "    return np.array([[8*x[0],-2*x[1]],[4*(x[1]**2)-1,8*x[0]*x[1]]])\n"
   ]
  },
  {
   "cell_type": "code",
   "execution_count": 5,
   "id": "0de84aab-99c5-4fd7-8ef8-b71f10fff503",
   "metadata": {},
   "outputs": [
    {
     "data": {
      "text/plain": [
       "array([[ 0, -2],\n",
       "       [ 3,  0]])"
      ]
     },
     "execution_count": 5,
     "metadata": {},
     "output_type": "execute_result"
    }
   ],
   "source": [
    "J([0,1])"
   ]
  },
  {
   "cell_type": "code",
   "execution_count": 28,
   "id": "2d373fb2-9c19-440a-baf5-9faec11156a9",
   "metadata": {},
   "outputs": [],
   "source": [
    "from numpy.linalg import inv\n",
    "x1 = np.array([0,1])-np.matmul(inv(J([0,1])),f([0,1]))"
   ]
  },
  {
   "cell_type": "code",
   "execution_count": 29,
   "id": "57d6f987-5e76-453f-a488-645a6779f11b",
   "metadata": {},
   "outputs": [],
   "source": [
    "x2 = x1-np.matmul(inv(J(x1)),f(x1))"
   ]
  },
  {
   "cell_type": "code",
   "execution_count": 30,
   "id": "7178f632-ff2a-4937-a0bf-72b1a9f4821e",
   "metadata": {},
   "outputs": [
    {
     "data": {
      "text/plain": [
       "array([0.54166667, 1.25      ])"
      ]
     },
     "execution_count": 30,
     "metadata": {},
     "output_type": "execute_result"
    }
   ],
   "source": [
    "x2"
   ]
  },
  {
   "cell_type": "code",
   "execution_count": 31,
   "id": "508c06b5-47ca-4361-8664-8571960259fd",
   "metadata": {},
   "outputs": [
    {
     "data": {
      "text/plain": [
       "array([-0.20833333, -0.75      ])"
      ]
     },
     "execution_count": 31,
     "metadata": {},
     "output_type": "execute_result"
    }
   ],
   "source": [
    "np.matmul(inv(J(x1)),f(x1))"
   ]
  },
  {
   "cell_type": "code",
   "execution_count": 33,
   "id": "29195835-d755-4c50-a88d-8d7861b01193",
   "metadata": {},
   "outputs": [
    {
     "data": {
      "text/plain": [
       "array([ 0.19444444, -1.        ])"
      ]
     },
     "execution_count": 33,
     "metadata": {},
     "output_type": "execute_result"
    }
   ],
   "source": [
    "f(x1)"
   ]
  },
  {
   "cell_type": "code",
   "execution_count": null,
   "id": "a812351f-f24c-414e-b88a-188ebdda8b14",
   "metadata": {},
   "outputs": [],
   "source": []
  }
 ],
 "metadata": {
  "kernelspec": {
   "display_name": "Python 3 (ipykernel)",
   "language": "python",
   "name": "python3"
  },
  "language_info": {
   "codemirror_mode": {
    "name": "ipython",
    "version": 3
   },
   "file_extension": ".py",
   "mimetype": "text/x-python",
   "name": "python",
   "nbconvert_exporter": "python",
   "pygments_lexer": "ipython3",
   "version": "3.11.4"
  }
 },
 "nbformat": 4,
 "nbformat_minor": 5
}
